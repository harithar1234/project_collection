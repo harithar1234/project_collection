{
  "nbformat": 4,
  "nbformat_minor": 0,
  "metadata": {
    "colab": {
      "name": "CNN-MNIST-Handwritten_digits.ipynb",
      "provenance": [],
      "collapsed_sections": []
    },
    "kernelspec": {
      "name": "python3",
      "display_name": "Python 3"
    },
    "language_info": {
      "name": "python"
    }
  },
  "cells": [
    {
      "cell_type": "markdown",
      "source": [
        "The MNIST dataset is an acronym that stands for the Modified National Institute of Standards and Technology dataset.The MNIST database is a large database of handwritten digits that is commonly used for training various image processing systems.\n",
        "\n"
      ],
      "metadata": {
        "id": "7mrMl2NtR93P"
      }
    },
    {
      "cell_type": "code",
      "execution_count": 48,
      "metadata": {
        "id": "71V_UsoSKiqA"
      },
      "outputs": [],
      "source": [
        "#necessary libraries\n",
        "import numpy as np\n",
        "from PIL import Image as im\n",
        "import matplotlib.pyplot as plt\n",
        "from sklearn.manifold import TSNE\n",
        "from scipy.special import softmax\n",
        "import math\n",
        "import tensorflow as tf\n",
        "from tensorflow import keras"
      ]
    },
    {
      "cell_type": "code",
      "source": [
        "#ReLu function\n",
        "def relu(X):\n",
        "   return np.maximum(0,X)\n",
        "\n",
        "#softmax function\n",
        "def soft_max(X):\n",
        "    m = softmax(X, axis=1)\n",
        "    return m\n",
        "\n",
        "#relu derivative\n",
        "def Relu_deriv(x):\n",
        "        o=relu(x)\n",
        "        o[o>0]=1\n",
        "        return o"
      ],
      "metadata": {
        "id": "Mx7MAHvpLhKg"
      },
      "execution_count": 49,
      "outputs": []
    },
    {
      "cell_type": "markdown",
      "source": [
        "$\\frac{width input - kernel size + 2* padding}{stride} + 1 = width output $\n",
        "\n",
        "we require width input = width output ,so padding=\n",
        "\n",
        "$padding = \\frac{stride(width input-1) + kernel - width input}{2}$"
      ],
      "metadata": {
        "id": "kYngOYVfP9Nd"
      }
    },
    {
      "cell_type": "code",
      "source": [
        "def small_conv(slice,filter):\n",
        "    # Element-wise product of slice and filter. \n",
        "    prod = np.multiply(slice,filter)\n",
        "    # Sum over all entries of the volume prod.\n",
        "    out = np.sum(prod)\n",
        "    return out"
      ],
      "metadata": {
        "id": "jNA0XPAsX9vt"
      },
      "execution_count": 50,
      "outputs": []
    },
    {
      "cell_type": "code",
      "source": [
        "#Implements the forward propagation for a convolution function\n",
        "\n",
        "def conv_forward(Activation_prev, kernel ):\n",
        "\n",
        "# Activation_prev = output of the previous layer (input to the convolution layer)\n",
        "  \n",
        "    (num_datapoints, W_prev, W_prev, num_Channels) = Activation_prev.shape\n",
        "    \n",
        "    (k, k, num_Channels, n_kernels) = kernel.shape\n",
        "    \n",
        "    stride = 1 #given \n",
        "    pad = 2 #calculated\n",
        "    new_W = int((W_prev + 2*pad - k)/stride) + 1     # dimension of the CONVOLUTION LAYER output \n",
        "    \n",
        "    # Initialize the volume Z with zeros.\n",
        "    Z = np.zeros([num_datapoints, new_W, new_W, n_kernels])\n",
        "    \n",
        "    Activation_padded = np.pad(Activation_prev, ((0,0), (pad,pad), (pad,pad), (0,0)), 'constant', constant_values = (0,0))\n",
        "\n",
        "    \n",
        "    for i in range(num_datapoints):                              \n",
        "        x_pad = Activation_padded[i,:,:,:]   # padded activation of ith training sample\n",
        "        for h in range(new_W):                          \n",
        "            for w in range(new_W):                     \n",
        "                for c in range(n_kernels):                 \n",
        "                    \n",
        "                    # corners of the current slice\n",
        "                    ver_start = h*stride\n",
        "                    ver_end = h*stride + k\n",
        "                    hor_start = w*stride \n",
        "                    hor_end = w*stride + k\n",
        "                    \n",
        "                    # Use the corners to define the (3D) slice of x_pad \n",
        "                    x_slice = x_pad[ver_start:ver_end,hor_start:hor_end,:]\n",
        "                    # Convolve the (3D) slice with the respective filter \n",
        "                    Z[i, h, w, c] = small_conv(x_slice, kernel[:, :, :, c])\n",
        "                                        \n",
        "    \n",
        "    conv_output=relu(Z)\n",
        "    # info =needed information for the conv_backward() function\n",
        "    info= (Activation_prev, kernel ,Z)\n",
        "    return conv_output,info"
      ],
      "metadata": {
        "id": "NWEBc2rTLj23"
      },
      "execution_count": 51,
      "outputs": []
    },
    {
      "cell_type": "code",
      "source": [
        "#Implements the backward propagation for a convolution function\n",
        "\n",
        "def conv_backward(dC, infor):\n",
        "    \n",
        "#  dC = gradient of the error with respect to the output of the conv layer {array of shape (num_datapoints, new_W, new_W, n_kernels)}\n",
        "#  infor= needed values for the conv_backward() got from conv_forward()\n",
        "#  A_prev = input given to the convolution layer\n",
        "# Z= convolution of A_prev and kernel (without relu function applied)\n",
        "    \n",
        "    (A_prev, kernel, Z) = infor  \n",
        "\n",
        "    dC_wrt_dZ=Relu_deriv(Z)\n",
        "\n",
        "    dZ= np.multiply( dC , dC_wrt_dZ)\n",
        "# dZ= gradient of the error with respect to Z , {array of shape (num_datapoints, new_W, new_W, n_kernels)}\n",
        "    \n",
        "    (num_datapoints, W_prev, W_prev, num_Channels) = A_prev.shape\n",
        "    (k, k, num_Channels, n_kernels) = kernel.shape\n",
        "\n",
        "    stride = 1 # given\n",
        "    pad = 2 # calculated\n",
        "    \n",
        "    (num_datapoints, new_W, new_W, n_kernels) = dZ.shape\n",
        "\n",
        "# dA_prev= gradient of the error with respect to A_prev(input of convolution layer)    \n",
        "# dker = gradient of the error with respect to kernel of convolution layer\n",
        "    # Initialize dA_prev, dKer\n",
        "    dA_prev = np.zeros((num_datapoints, W_prev, W_prev, num_Channels))                           \n",
        "    dker = np.zeros((k, k, num_Channels, n_kernels))\n",
        "  \n",
        "    # Pad A_prev and dA_prev\n",
        "    A_prev_padded = np.pad(A_prev, ((0,0), (pad,pad), (pad,pad), (0,0)), 'constant', constant_values = (0,0))\n",
        "    dA_prev_padded =np.pad(dA_prev, ((0,0), (pad,pad), (pad,pad), (0,0)), 'constant', constant_values = (0,0))\n",
        " \n",
        "    for i in range(num_datapoints):                 \n",
        "        \n",
        "        x_prev_pad = A_prev_padded[i]         #  ith training example from A_prev_pad \n",
        "        dx_prev_pad = dA_prev_padded[i]      #  ith training example from dA_prev_pad\n",
        "        \n",
        "        for h in range(new_W):                  \n",
        "            for w in range(new_W):              \n",
        "                for c in range(n_kernels):         \n",
        "                    \n",
        "                    # corners of the current slice\n",
        "                    ver_start = h\n",
        "                    ver_end = ver_start + k\n",
        "                    hor_start = w\n",
        "                    hor_end = hor_start + k\n",
        "                    \n",
        "                    # Use the corners to define the slice from x_prev_pad\n",
        "                    x_slice = x_prev_pad[ver_start:ver_end, hor_start:hor_end, :]\n",
        "                    \n",
        "                    dx_prev_pad[ver_start:ver_end, hor_start:hor_end, :] += kernel[:,:,:,c] * dZ[i, h, w, c]\n",
        "                    dker[:,:,:,c] += x_slice * dZ[i, h, w, c]\n",
        "              \n",
        "        # unpadding dx_prev_pad to get dA_prev of ith example\n",
        "        dA_prev[i, :, :, :] = dx_prev_pad[pad:-pad, pad:-pad, :]\n",
        "  \n",
        "    return dA_prev, dker\n"
      ],
      "metadata": {
        "id": "Dazg4FdOcbr4"
      },
      "execution_count": 52,
      "outputs": []
    },
    {
      "cell_type": "code",
      "source": [
        "# Implements the forward pass of the pooling layer\n",
        "\n",
        "def pool_forward(Activation_prev ):\n",
        "# Activation_prev= input of pooling layer (output of previous layer)\n",
        "\n",
        "    (num_datapoints, W_prev, W_prev, num_Channels) = Activation_prev.shape\n",
        "    pool_size = 2 # given\n",
        "    stride = 2 #given\n",
        "    \n",
        "    # Define the dimensions of the output\n",
        "    new_W = int(1 + (W_prev - pool_size) / stride)\n",
        "    # Initialize output matrix \n",
        "    out_pool = np.zeros((num_datapoints, new_W, new_W, num_Channels))              \n",
        "    \n",
        "    for i in range(num_datapoints):                         \n",
        "        for h in range(new_W):                     \n",
        "            for w in range(new_W):                \n",
        "                for c in range (num_Channels):            \n",
        "                    \n",
        "                    #corners of the current slice\n",
        "                    ver_start = h*stride\n",
        "                    ver_end = h*stride + pool_size\n",
        "                    hor_start = w*stride\n",
        "                    hor_end = w*stride + pool_size\n",
        "                    \n",
        "                    # Use the corners to define the current slice of the ith training example Activation_prev\n",
        "                    a_slice = Activation_prev[i, ver_start:ver_end, hor_start:hor_end,c]\n",
        "                    \n",
        "                    # pooling operation on the slice\n",
        "                    out_pool[i, h, w, c] = np.max(a_slice)\n",
        "                            \n",
        "    return out_pool"
      ],
      "metadata": {
        "id": "4Yz-2h-9xeAQ"
      },
      "execution_count": 53,
      "outputs": []
    },
    {
      "cell_type": "code",
      "source": [
        "def max_mask(x):\n",
        "#mask contains a True at the position corresponding to the max entry of x and contains false at other positions\n",
        "    mask = x == np.max(x)\n",
        "    return mask"
      ],
      "metadata": {
        "id": "NGX-f_1t3lAo"
      },
      "execution_count": 54,
      "outputs": []
    },
    {
      "cell_type": "code",
      "source": [
        "#  Implements the backward pass of the pooling layer\n",
        "def pool_backward(dPool, A_prev):\n",
        "  \n",
        "#dPool = gradient of error with respect to the output of the pooling layer\n",
        "# A_prev = input of pooling layer      \n",
        "#dA_prev = gradient of error with respect to the input of the pooling layer (same shape as A_prev)\n",
        "    stride = 2 # given\n",
        "    pool_size =2 #given\n",
        "    \n",
        "    num_datapoints, new_W, new_W, num_Channels = dPool.shape\n",
        "    dA_prev = np.zeros(A_prev.shape)\n",
        "    \n",
        "    for i in range(num_datapoints):                     \n",
        "        x = A_prev[i]          # ith training example from A_prev\n",
        "        for h in range(new_W):                  \n",
        "            for w in range(new_W):              \n",
        "                for c in range(num_Channels):          \n",
        "                    #corners of the current slice (array 2D)\n",
        "                    ver_start = h\n",
        "                    ver_end = ver_start + pool_size\n",
        "                    hor_start = w\n",
        "                    hor_end = hor_start + pool_size\n",
        "                    \n",
        "                    # Use the corners and c to define the current slice (array 2D) from x\n",
        "                    x_slice = x[ver_start:ver_end, hor_start:hor_end, c]\n",
        "                    # Create the mask from x_slice\n",
        "                    mask = max_mask(x_slice)\n",
        "                    # Set dA_prev to be dA_prev + (the mask multiplied by the correct entry of dPool) \n",
        "                    dA_prev[i, ver_start:ver_end, hor_start:hor_end, c] += np.multiply(mask, dPool[i, h, w, c])\n",
        "          \n",
        "    return dA_prev"
      ],
      "metadata": {
        "id": "cQ3h6tOP8hAW"
      },
      "execution_count": 55,
      "outputs": []
    },
    {
      "cell_type": "code",
      "source": [
        "# Flattening (unraveling) layer\n",
        "def flat_forward( Prev_Act ):\n",
        "# Prev_Act = output of previous pooling layer , (input to the  flattening layer)\n",
        "   num_datapoints, new_W, new_W, num_Channels = Prev_Act.shape\n",
        "   flatten_output= np.zeros((num_datapoints, (new_W*new_W*num_Channels)))\n",
        "   \n",
        "   for i in range(num_datapoints):                     \n",
        "        act_map_volume = Prev_Act[i]          # ith training example from Prev_Act\n",
        "        feature_vec=act_map_volume.flatten()\n",
        "        flatten_output[i,:]=feature_vec\n",
        "   \n",
        "   return flatten_output"
      ],
      "metadata": {
        "id": "SER1rP2iCgoR"
      },
      "execution_count": 56,
      "outputs": []
    },
    {
      "cell_type": "code",
      "source": [
        "def flat_backpropagation(dF, Prev_Act):\n",
        "   # Prev_Act = output of previous pooling layer , (input to the  flattening layer)\n",
        "   # dF = gradient of error with respect to output of flattening layer\n",
        "   # dPrev_Act = gradient of error with respect to input of flattening layer,(same shape as Prev_Act)\n",
        "   dPrev_Act=dF.reshape(Prev_Act.shape)\n",
        "   return dPrev_Act"
      ],
      "metadata": {
        "id": "hCnwL7Vagiaz"
      },
      "execution_count": 57,
      "outputs": []
    },
    {
      "cell_type": "code",
      "source": [
        "def MLP_forward(feature_vec,W_hidden,b_hidden,W_out,b_out):\n",
        "#feature_vec = output of flatten layer.(input to MLP)    \n",
        "    Z_h = np.dot(feature_vec,W_hidden) + b_hidden\n",
        "    activation_hidden = relu(Z_h)\n",
        "\n",
        "    # Phase 2\n",
        "    Z_o = np.dot(activation_hidden, W_out) + b_out\n",
        "    y_pred = soft_max(Z_o)\n",
        "    \n",
        "    #information needed for backpropagation of MLP\n",
        "    info_MLP=(feature_vec,W_hidden,b_hidden,Z_h,activation_hidden,W_out,b_out,Z_o,y_pred)\n",
        "    return y_pred,info_MLP"
      ],
      "metadata": {
        "id": "kQeaA5tr7SAH"
      },
      "execution_count": 58,
      "outputs": []
    },
    {
      "cell_type": "code",
      "source": [
        "def MLP_backward(y_label,info_MLP):\n",
        "       #information for backpropagation of MLP got from MLP_forward()\n",
        "       (feature_vec,W_hidden,b_hidden,Z_h,activation_hidden,W_out,b_out,Z_o,y_pred)=info_MLP\n",
        "       \n",
        "       dZ_o = y_pred - y_label\n",
        "       dZ_o_wrt_W_out = activation_hidden\n",
        "\n",
        "       dW_out = np.dot(dZ_o_wrt_W_out.T, dZ_o)\n",
        "       db_out = dZ_o     \n",
        "\n",
        "       dZ_o_wrt_act_hidden = W_out\n",
        "       dactivation_hidden = np.dot(dZ_o , dZ_o_wrt_act_hidden.T)\n",
        "       dact_hidden_wrt_Z_h = Relu_deriv(Z_h)\n",
        "       dZ_h_wrt_W_hidden = feature_vec\n",
        "       dW_hidden = np.dot(dZ_h_wrt_W_hidden.T, dact_hidden_wrt_Z_h * dactivation_hidden)\n",
        "       db_hidden = dactivation_hidden * dact_hidden_wrt_Z_h    \n",
        "\n",
        "       dZ_h_wrt_input= W_hidden   \n",
        "       dinput=np.dot(dact_hidden_wrt_Z_h * dactivation_hidden , dZ_h_wrt_input.T)\n",
        "\n",
        "       return dinput,dW_out,db_out,dW_hidden,db_hidden\n"
      ],
      "metadata": {
        "id": "E5aZka4ziWGC"
      },
      "execution_count": 59,
      "outputs": []
    },
    {
      "cell_type": "code",
      "source": [
        "def Vanilla_SGD(gradients,parameters):\n",
        "      learn_rate=0.001\n",
        "      (dkernel1 , dkernel2, dW_hidden , db_hidden , dW_out , db_out)=gradients\n",
        "      (kernel1_old , kernel2_old , W_hidden_old , b_hidden_old, W_out_old , b_out_old )=parameters\n",
        "      \n",
        "      kernel1_new = kernel1_old - learn_rate* (dkernel1) \n",
        "      kernel2_new = kernel2_old - learn_rate* (dkernel2) \n",
        "      \n",
        "      W_hidden_new = W_hidden_old - learn_rate* (dW_hidden) \n",
        "      b_hidden_new = b_hidden_old - learn_rate* (db_hidden) \n",
        "      \n",
        "      W_out_new = W_out_old - learn_rate* (dW_out) \n",
        "      b_out_new = b_out_old - learn_rate* (db_out) \n",
        "\n",
        "      parameters=(kernel1_new ,kernel2_new ,W_hidden_new ,b_hidden_new , W_out_new , b_out_new)\n",
        "        \n",
        "      return parameters\n",
        "      "
      ],
      "metadata": {
        "id": "hZ3uLi_k5MXt"
      },
      "execution_count": 60,
      "outputs": []
    },
    {
      "cell_type": "code",
      "source": [
        "def  Momentum(gradients,parameters,V):\n",
        "          learn_rate=0.001\n",
        "          alpha = 0.9\n",
        "          (dkernel1 , dkernel2, dW_hidden , db_hidden , dW_out , db_out)=gradients\n",
        "          (kernel1_old , kernel2_old , W_hidden_old , b_hidden_old, W_out_old , b_out_old )=parameters\n",
        "          (V_kernel1 , V_kernel2, V_W_hidden , V_b_hidden , V_W_out , V_b_out) =V\n",
        "          \n",
        "          V_kernel1= alpha*V_kernel1 - learn_rate *(dkernel1)\n",
        "          kernel1_new=kernel1_old + V_kernel1\n",
        "          V_kernel2 = alpha*V_kernel2 - learn_rate* (dkernel2) \n",
        "          kernel2_new = kernel2_old + V_kernel2\n",
        "      \n",
        "          V_W_hidden = alpha*V_W_hidden - learn_rate* (dW_hidden) \n",
        "          W_hidden_new = W_hidden_old + V_W_hidden\n",
        "          V_b_hidden = alpha*V_b_hidden - learn_rate* (db_hidden) \n",
        "          b_hidden_new = b_hidden_old + V_b_hidden\n",
        "          \n",
        "          V_W_out = alpha*V_W_out - learn_rate* (dW_out) \n",
        "          W_out_new = W_out_old + V_W_out\n",
        "          V_b_out = alpha*V_b_out - learn_rate* (db_out) \n",
        "          b_out_new = b_out_old + V_b_out\n",
        "\n",
        "          parameters=(kernel1_new ,kernel2_new ,W_hidden_new ,b_hidden_new , W_out_new , b_out_new)\n",
        "          V_new=(V_kernel1 , V_kernel2, V_W_hidden , V_b_hidden , V_W_out , V_b_out) \n",
        "          return parameters,V_new\n",
        "                "
      ],
      "metadata": {
        "id": "22ESAN8HLahr"
      },
      "execution_count": 61,
      "outputs": []
    },
    {
      "cell_type": "code",
      "source": [
        "def RMSprop(gradients, parameters ,V):\n",
        "          learn_rate=0.001\n",
        "          beta = 0.9\n",
        "          epsilon= 1e-07\n",
        "          (dkernel1 , dkernel2, dW_hidden , db_hidden , dW_out , db_out)=gradients\n",
        "          (kernel1_old , kernel2_old , W_hidden_old , b_hidden_old, W_out_old , b_out_old )=parameters\n",
        "          (V_kernel1 , V_kernel2, V_W_hidden , V_b_hidden , V_W_out , V_b_out) =V\n",
        "          \n",
        "          V_kernel1= beta*V_kernel1 + (1-beta)*(dkernel1**2)\n",
        "          V_kernel2 = beta*V_kernel2 + (1-beta)* (dkernel2**2) \n",
        "          V_W_hidden = beta*V_W_hidden + (1-beta)* (dW_hidden**2) \n",
        "          V_b_hidden = beta*V_b_hidden + (1-beta)* (db_hidden**2)         \n",
        "          V_W_out = beta*V_W_out + (1-beta)* (dW_out**2) \n",
        "          V_b_out = beta*V_b_out + (1-beta)* (db_out**2) \n",
        "       \n",
        "          kernel1_new = kernel1_old - learn_rate* (dkernel1 /np.sqrt(V_kernel1 + epsilon) ) \n",
        "          kernel2_new = kernel2_old - learn_rate* (dkernel2 /np.sqrt(V_kernel2+ epsilon)) \n",
        "          W_hidden_new = W_hidden_old - learn_rate* (dW_hidden / np.sqrt(V_W_hidden + epsilon)) \n",
        "          b_hidden_new = b_hidden_old - learn_rate* (db_hidden / np.sqrt(V_b_hidden + epsilon)) \n",
        "          W_out_new = W_out_old - learn_rate* (dW_out / np.sqrt(V_W_out + epsilon)) \n",
        "          b_out_new = b_out_old - learn_rate* (db_out / np.sqrt(V_b_out+ epsilon)) \n",
        "\n",
        "          parameters=(kernel1_new ,kernel2_new ,W_hidden_new ,b_hidden_new , W_out_new , b_out_new)\n",
        "          V_new=(V_kernel1 , V_kernel2, V_W_hidden , V_b_hidden , V_W_out , V_b_out) \n",
        "          return parameters,V_new"
      ],
      "metadata": {
        "id": "hbdCUDzfbQrI"
      },
      "execution_count": 62,
      "outputs": []
    },
    {
      "cell_type": "code",
      "source": [
        "#Cross Entropy Loss\n",
        "def cross_entropy_god(targets,predictions,  epsilon=1e-19):\n",
        "    \"\"\"\n",
        "    Computes cross entropy between targets (encoded as one-hot vectors) and predictions. \n",
        "    Input: predictions (Num_datapoints, num_classlabels) ndarray\n",
        "           targets (Num_datapoints, num_classlabels) ndarray        \n",
        "    Returns: scalar\n",
        "    \"\"\"\n",
        "    predictions = np.clip(predictions, epsilon, 1. - epsilon)\n",
        "    N = predictions.shape[0]\n",
        "    ce = -np.sum(targets*np.log(predictions+1e-9))/N\n",
        "    return ce"
      ],
      "metadata": {
        "id": "psIvIfHp5tIL"
      },
      "execution_count": 63,
      "outputs": []
    },
    {
      "cell_type": "code",
      "source": [
        "#only forward prpogation\n",
        "def forward_path(data_points , current_parameters):\n",
        "      (kernel1 ,kernel2 , weight_hidden ,bias_hidden, weight_out , bias_out) =  current_parameters   \n",
        "      # forward propagation\n",
        "      conv1 , bla = conv_forward(data_points, kernel1)\n",
        "      maxpool1 = pool_forward(conv1)\n",
        "                \n",
        "      conv2 , bla = conv_forward(maxpool1 , kernel2 )\n",
        "      maxpool2 = pool_forward( conv2)\n",
        "                \n",
        "      flatten_feature = flat_forward(maxpool2)\n",
        "      prediction, bla = MLP_forward(flatten_feature , weight_hidden ,bias_hidden , weight_out ,bias_out)\n",
        "      \n",
        "      return  prediction"
      ],
      "metadata": {
        "id": "tG5fzrOjn8HR"
      },
      "execution_count": 64,
      "outputs": []
    },
    {
      "cell_type": "code",
      "source": [
        "\n",
        "def tsne_plotting (feature_vec ,labels , string):\n",
        "       colorss=['blue', 'black', 'red', 'green', 'yellow', 'cyan','orange','brown','violet','grey']\n",
        "       z = TSNE(n_components=2, verbose=1, random_state=123).fit_transform(feature_vec)\n",
        "       class_co = np.array( tf.argmax(labels, axis=1) )\n",
        "       plt.figure()\n",
        "       for i in range(labels.shape[0]):\n",
        "          plt.plot(z[i][0], z[i][1], marker=\"o\", markersize=5, color= colorss[class_co[i]])\n",
        "       \n",
        "       plt.title(\"t-sne plot at the end of epoch = \"+ string)\n",
        "       plt.show()\n"
      ],
      "metadata": {
        "id": "PNYYpslRWpnH"
      },
      "execution_count": 65,
      "outputs": []
    },
    {
      "cell_type": "code",
      "source": [
        "def encode_labels(data_labels, num_classes):\n",
        "        #Encode labels into a one-hot representation\n",
        "        onehot = np.zeros((data_labels.shape[0],num_classes))\n",
        "        for i in range(data_labels.shape[0]):\n",
        "            onehot[i,data_labels[i]] = 1.0\n",
        "        return onehot"
      ],
      "metadata": {
        "id": "BHij6XlPafCw"
      },
      "execution_count": 66,
      "outputs": []
    },
    {
      "cell_type": "code",
      "source": [
        "def Complete_model(SGD_variant ,train_images , train_labels,num_epoch=15 ):\n",
        "       \n",
        "       #Initialisation:\n",
        "       num_input_MLP=(196)\n",
        "       num_hidden_MLP=49\n",
        "       num_out_MLP=10\n",
        "       parameter_SGD_variant=(0,0,0,0,0,0)   \n",
        "\n",
        "       kernel1= np.random.randn(5, 5, 1, 4)\n",
        "       kernel2= np.random.randn(5, 5, 4, 4)\n",
        "       weight_hidden= np.random.rand(num_input_MLP,num_hidden_MLP)\n",
        "       bias_hidden = np.random.randn(num_hidden_MLP)\n",
        "       weight_out = np.random.rand(num_hidden_MLP,num_out_MLP)\n",
        "       bias_out = np.random.randn(num_out_MLP)\n",
        "       \n",
        "       train_error=  [0] * (num_epoch)  # stores the cross entropy train error at the end of each epoch\n",
        "       test_error =  [0] * (num_epoch)   # stores the cross entropy test error at the end of each epoch\n",
        "       accuracy =  [0] * (num_epoch)  # stores the validate accuracy at the end of each epoch\n",
        "\n",
        "       # forward propagation\n",
        "       conv1 , info_convback1 = conv_forward(train_images , kernel1)\n",
        "       maxpool1 = pool_forward(conv1)\n",
        "                \n",
        "       conv2 , info_convback2 = conv_forward(maxpool1 , kernel2 )\n",
        "       maxpool2 = pool_forward( conv2)\n",
        "                \n",
        "       flatten_feature = flat_forward(maxpool2)\n",
        "       y_train_prediction,info_MLP_back = MLP_forward(flatten_feature , weight_hidden ,bias_hidden , weight_out ,bias_out)\n",
        "\n",
        "       for ep in range(num_epoch ):\n",
        "\n",
        "                #backward propagation\n",
        "                grad_flatten,grad_Wout,grad_bout,grad_Whid,grad_bhid = MLP_backward(train_labels,info_MLP_back)\n",
        "                grad_pool2 = flat_backpropagation(grad_flatten, maxpool2)\n",
        "                \n",
        "                grad_conv2 = pool_backward(grad_pool2 , conv2)\n",
        "                grad_pool1, grad_ker2 =conv_backward(grad_conv2 , info_convback2)\n",
        "\n",
        "                grad_conv1 =pool_backward(grad_pool1 , conv1)\n",
        "                d_input , grad_ker1 =conv_backward(grad_conv1 , info_convback1)\n",
        "\n",
        "                # current parameters\n",
        "                all_gradient = (grad_ker1 ,grad_ker2 ,grad_Whid ,grad_bhid ,grad_Wout ,grad_bout )\n",
        "                all_parameter = (kernel1 ,kernel2 , weight_hidden ,bias_hidden, weight_out , bias_out)\n",
        "\n",
        "                \n",
        "                #weight updation\n",
        "                if (SGD_variant == \"Vanilla_SGD\"):\n",
        "                    all_parameter_updated = Vanilla_SGD(all_gradient , all_parameter) \n",
        "                elif(SGD_variant == \"Momentum\"):\n",
        "                    all_parameter_updated , parameter_SGD_variant =Momentum(all_gradient ,all_parameter ,parameter_SGD_variant)\n",
        "                elif(SGD_variant == \"RMSprop\"):\n",
        "                    all_parameter_updated , parameter_SGD_variant =RMSprop(all_gradient ,all_parameter ,parameter_SGD_variant)     \n",
        "\n",
        "                (kernel1 ,kernel2 , weight_hidden ,bias_hidden, weight_out , bias_out)=all_parameter_updated     \n",
        "                \n",
        "                # forward propagation\n",
        "                conv1 , info_convback1 = conv_forward(train_images , kernel1)\n",
        "                maxpool1 = pool_forward(conv1)\n",
        "                \n",
        "                conv2 , info_convback2 = conv_forward(maxpool1 , kernel2 )\n",
        "                maxpool2 = pool_forward( conv2)\n",
        "                \n",
        "                flatten_feature = flat_forward(maxpool2)\n",
        "                y_train_prediction,info_MLP_back = MLP_forward(flatten_feature , weight_hidden ,bias_hidden , weight_out ,bias_out)\n",
        "                \n",
        "                train_error[ep]= cross_entropy_god(train_labels , y_train_prediction)\n",
        "                \n",
        "                \n",
        "                 # Shuffle the training data\n",
        "                \n",
        "                permutation = np.random.permutation(len(train_images))\n",
        "                train_images = train_images[permutation]\n",
        "                train_labels = train_labels[permutation] \n",
        "                \n",
        "               \n",
        "       #printing the requied   \n",
        "       epoch_list=np.array(range(1,num_epoch+1))\n",
        "       plt.figure() \n",
        "       plt.plot( epoch_list,train_error )\n",
        "       plt.xlabel('number of epochs completed')\n",
        "       plt.ylabel('train error')\n",
        "       plt.title('train error with each epoch')\n",
        "       plt.show()\n",
        "\n",
        "       return all_parameter_updated     "
      ],
      "metadata": {
        "id": "UzKqmG5l7ITS"
      },
      "execution_count": 67,
      "outputs": []
    },
    {
      "cell_type": "code",
      "source": [
        "\n",
        "(train_images_data, train_labels_data), (test_images_data, test_labels_data) = tf.keras.datasets.mnist.load_data()\n"
      ],
      "metadata": {
        "id": "RjaWsthxX211"
      },
      "execution_count": 68,
      "outputs": []
    },
    {
      "cell_type": "markdown",
      "source": [
        "Using 100 images per class for the training set i.e., use 1000 images for training."
      ],
      "metadata": {
        "id": "9AgJP-_ftGpE"
      }
    },
    {
      "cell_type": "code",
      "source": [
        "train_dictionary ={i:[] for i in range(10)}\n",
        "for img,label in zip(train_images_data,train_labels_data):\n",
        "  train_dictionary[label].append(np.array(img).reshape(28,28,1))\n",
        "\n",
        "traindata=[]\n",
        "trainlab=[]\n",
        "for i in range(10):\n",
        "  traindata.append(np.array(train_dictionary[i][:100]))\n",
        "  trainlab.append([i]*100)\n",
        "\n",
        "train_images=np.array(traindata).reshape(1000,28,28,1)  \n",
        "train_labels=np.array(trainlab).reshape(1000,1)"
      ],
      "metadata": {
        "id": "clIDI54XWh1F"
      },
      "execution_count": null,
      "outputs": []
    },
    {
      "cell_type": "code",
      "source": [
        "test_dictionary ={i:[] for i in range(10)}\n",
        "for img,label in zip(test_images_data,test_labels_data):\n",
        "  test_dictionary[label].append(np.array(img).reshape(28,28,1))\n",
        "\n",
        "testdata=[]\n",
        "testlab=[]\n",
        "for i in range(10):\n",
        "  testdata.append(np.array(test_dictionary[i][:100]))\n",
        "  testlab.append([i]*100)\n",
        "\n",
        "test_images=np.array(testdata).reshape(1000,28,28,1)  \n",
        "test_labels=np.array(testlab).reshape(1000,1)"
      ],
      "metadata": {
        "id": "x9XVPZ0aXVfD"
      },
      "execution_count": 70,
      "outputs": []
    },
    {
      "cell_type": "code",
      "source": [
        "train_labels=encode_labels(train_labels,10)\n",
        "test_labels=encode_labels(test_labels,10)"
      ],
      "metadata": {
        "id": "Xt_hY81wbmcC"
      },
      "execution_count": 71,
      "outputs": []
    },
    {
      "cell_type": "code",
      "source": [
        "train_images_copy= train_images\n",
        "train_labels_copy= train_labels\n",
        "\n",
        "all_parameters=Complete_model( \"Momentum\" , train_images_copy ,train_labels_copy ,20)\n"
      ],
      "metadata": {
        "colab": {
          "base_uri": "https://localhost:8080/",
          "height": 295
        },
        "id": "HKUUn0-QGYrA",
        "outputId": "f6890fdb-9efd-441b-a13e-37d9cef20723"
      },
      "execution_count": 72,
      "outputs": [
        {
          "output_type": "display_data",
          "data": {
            "text/plain": [
              "<Figure size 432x288 with 1 Axes>"
            ],
            "image/png": "[encoded data removed]"
          },
          "metadata": {
            "needs_background": "light"
          }
        }
      ]
    },
    {
      "cell_type": "code",
      "source": [
        "test_images_prediction= forward_path(test_images,all_parameters) "
      ],
      "metadata": {
        "id": "d7KtwGixJcAP"
      },
      "execution_count": 88,
      "outputs": []
    },
    {
      "cell_type": "code",
      "source": [
        "img_data_point=test_images[69].reshape(28,28)\n",
        "plt.imshow(img_data_point)\n",
        "print(\"Actual label=\", (test_labels[69]))\n",
        "print(\"model predicted label=\",max_mask(test_images_prediction[69]) )\n"
      ],
      "metadata": {
        "colab": {
          "base_uri": "https://localhost:8080/",
          "height": 300
        },
        "id": "2BFITfExKK0B",
        "outputId": "279410fa-d843-44fd-ac94-235b6b491d35"
      },
      "execution_count": 103,
      "outputs": [
        {
          "output_type": "stream",
          "name": "stdout",
          "text": [
            "Actual label= [1. 0. 0. 0. 0. 0. 0. 0. 0. 0.]\n",
            "model predicted label= [ True False False False False False False False False False]\n"
          ]
        },
        {
          "output_type": "display_data",
          "data": {
            "text/plain": [
              "<Figure size 432x288 with 1 Axes>"
            ],
            "image/png": "[encoded data removed]"
          },
          "metadata": {
            "needs_background": "light"
          }
        }
      ]
    }
  ]
}